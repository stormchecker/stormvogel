{
  "cells": [
    {
      "cell_type": "code",
      "execution_count": 1,
      "id": "707aa367-c987-4d41-be28-cbe698e7e455",
      "metadata": {},
      "outputs": [],
      "source": [
        "import networkx as nx\n",
        "\n",
        "import stormvogel.examples as examples\n",
        "from stormvogel.graph import ModelGraph\n",
        "from stormvogel.visualization import JSVisualization, MplVisualization\n",
        "from stormvogel.layout import DEFAULT\n",
        "from stormvogel.show import show\n",
        "mdp = examples.die.create_die_dtmc()\n",
        "import ipywidgets as widgets\n",
        "\n",
        "import logging\n",
        "logger = logging.getLogger(__name__)\n",
        "logging.basicConfig(encoding='utf-8', level=logging.DEBUG)\n",
        "\n",
        "debug = widgets.Output()"
      ]
    },
    {
      "cell_type": "code",
      "execution_count": 2,
      "id": "5b23c16d-4790-4bca-bf6d-98a1e84be1df",
      "metadata": {},
      "outputs": [
        {
          "data": {
            "application/vnd.jupyter.widget-view+json": {
              "model_id": "dafb8d1f98454ace85195a3f02002086",
              "version_major": 2,
              "version_minor": 0
            },
            "text/plain": [
              "Output()"
            ]
          },
          "metadata": {},
          "output_type": "display_data"
        },
        {
          "data": {
            "text/html": [
              "<script>\n",
              "function return_id_result(url, id, data) {\n",
              "        fetch(url, {\n",
              "            method: 'POST',\n",
              "            body: JSON.stringify({\n",
              "                'id': id,\n",
              "                'data': data\n",
              "            })\n",
              "        })\n",
              "    }\n",
              "</script>"
            ],
            "text/plain": [
              "<IPython.core.display.HTML object>"
            ]
          },
          "metadata": {},
          "output_type": "display_data"
        },
        {
          "data": {
            "application/javascript": [
              "\n",
              "function return_id_result(url, id, data) {\n",
              "        fetch(url, {\n",
              "            method: 'POST',\n",
              "            body: JSON.stringify({\n",
              "                'id': id,\n",
              "                'data': data\n",
              "            })\n",
              "        })\n",
              "    }\n"
            ],
            "text/plain": [
              "<IPython.core.display.Javascript object>"
            ]
          },
          "metadata": {},
          "output_type": "display_data"
        },
        {
          "name": "stderr",
          "output_type": "stream",
          "text": [
            "INFO:root:CommunicationsServer started http://127.0.0.1:8889\n",
            "INFO:root:Succesfully initialized server.\n"
          ]
        },
        {
          "data": {
            "application/javascript": [
              "return_id_result('http://127.0.0.1:8889', 'rJucrHsGpUFDXKAHPxxF', 'test message')"
            ],
            "text/plain": [
              "<IPython.core.display.Javascript object>"
            ]
          },
          "metadata": {},
          "output_type": "display_data"
        },
        {
          "name": "stderr",
          "output_type": "stream",
          "text": [
            "INFO:root:Received request: rJucrHsGpUFDXKAHPxxF\n",
            "\"test message\"\n",
            "INFO:root:Succesfully received test message.\n"
          ]
        },
        {
          "data": {
            "application/vnd.jupyter.widget-view+json": {
              "model_id": "ce2a523cc2884cd2b0e85ff76ea8796a",
              "version_major": 2,
              "version_minor": 0
            },
            "text/plain": [
              "HBox(children=(Output(), Output()))"
            ]
          },
          "metadata": {},
          "output_type": "display_data"
        },
        {
          "data": {
            "application/javascript": [
              "nw_sLnWYKwCQe.network.setOptions({\n",
              "  \"__fake_macros\": {\n",
              "    \"__group_macro\": {\n",
              "      \"borderWidth\": 1,\n",
              "      \"color\": {\n",
              "        \"background\": \"white\",\n",
              "        \"border\": \"black\",\n",
              "        \"highlight\": {\n",
              "          \"background\": \"white\",\n",
              "          \"border\": \"red\"\n",
              "        }\n",
              "      },\n",
              "      \"shape\": \"ellipse\",\n",
              "      \"mass\": 1,\n",
              "      \"font\": {\n",
              "        \"color\": \"black\",\n",
              "        \"size\": 14\n",
              "      }\n",
              "    }\n",
              "  },\n",
              "  \"edit_groups\": {\n",
              "    \"groups\": [\n",
              "      \"states\",\n",
              "      \"actions\"\n",
              "    ]\n",
              "  },\n",
              "  \"groups\": {\n",
              "    \"actions\": {\n",
              "      \"borderWidth\": 1,\n",
              "      \"color\": {\n",
              "        \"background\": \"lightblue\",\n",
              "        \"border\": \"black\",\n",
              "        \"highlight\": {\n",
              "          \"background\": \"white\",\n",
              "          \"border\": \"red\"\n",
              "        }\n",
              "      },\n",
              "      \"shape\": \"box\",\n",
              "      \"mass\": 1,\n",
              "      \"font\": {\n",
              "        \"color\": \"black\",\n",
              "        \"size\": 14\n",
              "      }\n",
              "    },\n",
              "    \"scheduled_actions\": {\n",
              "      \"shape\": \"box\",\n",
              "      \"color\": {\n",
              "        \"background\": \"pink\",\n",
              "        \"border\": \"red\"\n",
              "      }\n",
              "    },\n",
              "    \"states\": {\n",
              "      \"borderWidth\": 1,\n",
              "      \"color\": {\n",
              "        \"background\": \"white\",\n",
              "        \"border\": \"black\",\n",
              "        \"highlight\": {\n",
              "          \"background\": \"white\",\n",
              "          \"border\": \"red\"\n",
              "        }\n",
              "      },\n",
              "      \"shape\": \"ellipse\",\n",
              "      \"mass\": 1,\n",
              "      \"font\": {\n",
              "        \"color\": \"black\",\n",
              "        \"size\": 14\n",
              "      }\n",
              "    }\n",
              "  },\n",
              "  \"reload_button\": false,\n",
              "  \"edges\": {\n",
              "    \"arrows\": \"to\",\n",
              "    \"font\": {\n",
              "      \"color\": \"black\",\n",
              "      \"size\": 14,\n",
              "      \"strokeColor\": \"white\",\n",
              "      \"strokeWidth\": 2\n",
              "    },\n",
              "    \"color\": {\n",
              "      \"color\": \"black\"\n",
              "    },\n",
              "    \"width\": 1\n",
              "  },\n",
              "  \"numbers\": {\n",
              "    \"fractions\": true,\n",
              "    \"digits\": 5,\n",
              "    \"denominator_limit\": 1000\n",
              "  },\n",
              "  \"results\": {\n",
              "    \"show_results\": true,\n",
              "    \"result_symbol\": \"\\u2606\",\n",
              "    \"result_colors\": false,\n",
              "    \"min_result_color\": \"#ffffff\",\n",
              "    \"max_result_color\": \"#ff0000\"\n",
              "  },\n",
              "  \"state_properties\": {\n",
              "    \"show_ids\": false,\n",
              "    \"show_rewards\": true,\n",
              "    \"reward_symbol\": \"\\u20ac\",\n",
              "    \"show_zero_rewards\": true,\n",
              "    \"show_observations\": true,\n",
              "    \"observation_symbol\": \"\\u0298\"\n",
              "  },\n",
              "  \"layout\": {\n",
              "    \"randomSeed\": 5\n",
              "  },\n",
              "  \"misc\": {\n",
              "    \"enable_physics\": false,\n",
              "    \"width\": 800,\n",
              "    \"height\": 600,\n",
              "    \"explore\": false\n",
              "  },\n",
              "  \"saving\": {\n",
              "    \"relative_path\": true,\n",
              "    \"filename\": \"layouts/NAME.json\",\n",
              "    \"save_button\": false,\n",
              "    \"load_button\": false\n",
              "  },\n",
              "  \"positions\": {\n",
              "    \"0\": {\n",
              "      \"x\": -171.42857142857144,\n",
              "      \"y\": 0.0\n",
              "    },\n",
              "    \"1\": {\n",
              "      \"x\": 28.57142857142857,\n",
              "      \"y\": -500.0\n",
              "    },\n",
              "    \"2\": {\n",
              "      \"x\": 28.57142857142857,\n",
              "      \"y\": -300.00000000000006\n",
              "    },\n",
              "    \"3\": {\n",
              "      \"x\": 28.57142857142857,\n",
              "      \"y\": -100.0\n",
              "    },\n",
              "    \"4\": {\n",
              "      \"x\": 28.57142857142857,\n",
              "      \"y\": 100.0\n",
              "    },\n",
              "    \"5\": {\n",
              "      \"x\": 28.57142857142857,\n",
              "      \"y\": 300.00000000000006\n",
              "    },\n",
              "    \"6\": {\n",
              "      \"x\": 28.57142857142857,\n",
              "      \"y\": 500.0\n",
              "    }\n",
              "  },\n",
              "  \"physics\": false,\n",
              "  \"autoResize\": true\n",
              "});"
            ],
            "text/plain": [
              "<IPython.core.display.Javascript object>"
            ]
          },
          "metadata": {},
          "output_type": "display_data"
        },
        {
          "name": "stderr",
          "output_type": "stream",
          "text": [
            "INFO:root:Received request: vvOzXToDPXQfScthCgGz\n",
            "{\"0\": {\"x\": -171, \"y\": 0}, \"1\": {\"x\": 28, \"y\": -500}, \"2\": {\"x\": -667, \"y\": -232}, \"3\": {\"x\": 28, \"y\": -100}, \"4\": {\"x\": 28, \"y\": 100}, \"5\": {\"x\": 28, \"y\": 300}, \"6\": {\"x\": 28, \"y\": 500}}\n"
          ]
        }
      ],
      "source": [
        "# import stormvogel\n",
        "# import ipywidgets as widgets\n",
        "# import IPython.display as ipd\n",
        "# vis = stormvogel.visualization.JSVisualization(model=mdp)\n",
        "# e = stormvogel.layout_editor.LayoutEditor(vis.layout, vis, do_display=False)\n",
        "# e.show()\n",
        "# box = widgets.HBox(children=[vis.output, e.output])\n",
        "# ipd.display(box)\n",
        "# vis.update()\n",
        "from stormvogel.show import show\n",
        "from stormvogel.layout import Layout\n",
        "vis = show(mdp, engine=\"js\", debug_output=debug, show_editor=True, layout=Layout(\"layouts/NAME.json\"), nx_pos=True)"
      ]
    },
    {
      "cell_type": "code",
      "execution_count": 3,
      "id": "ada3d400-9274-48ce-81be-c7ce3d26f895",
      "metadata": {},
      "outputs": [
        {
          "data": {
            "application/vnd.jupyter.widget-view+json": {
              "model_id": "7dc7e9d4031a409ea12b2b6a7bfb9fef",
              "version_major": 2,
              "version_minor": 0
            },
            "text/plain": [
              "Output(outputs=({'name': 'stderr', 'text': 'INFO:root:Called show\\n', 'output_type': 'stream'},))"
            ]
          },
          "metadata": {},
          "output_type": "display_data"
        }
      ],
      "source": [
        "import IPython.display as ipd\n",
        "ipd.display(debug)"
      ]
    },
    {
      "cell_type": "code",
      "execution_count": 4,
      "id": "9479e79b-08e7-4a9a-87ba-bcb7b4ff828d",
      "metadata": {},
      "outputs": [
        {
          "data": {
            "text/plain": [
              "{0: {'x': -171.42857142857144, 'y': 0.0},\n",
              " 1: {'x': 28.57142857142857, 'y': -500.0},\n",
              " 2: {'x': 28.57142857142857, 'y': -300.00000000000006},\n",
              " 3: {'x': 28.57142857142857, 'y': -100.0},\n",
              " 4: {'x': 28.57142857142857, 'y': 100.0},\n",
              " 5: {'x': 28.57142857142857, 'y': 300.00000000000006},\n",
              " 6: {'x': 28.57142857142857, 'y': 500.0}}"
            ]
          },
          "execution_count": 4,
          "metadata": {},
          "output_type": "execute_result"
        }
      ],
      "source": [
        "vis.layout.layout[\"positions\"]"
      ]
    },
    {
      "cell_type": "code",
      "execution_count": 5,
      "id": "5f4432d4-ab02-49e3-99b8-20e792ca5fc5",
      "metadata": {},
      "outputs": [
        {
          "data": {
            "text/plain": [
              "'positions\": {\\n    \"0\": {\\n      \"x\": -171.42857142857144,\\n      \"y\": 0.0\\n    },\\n    \"1\": {\\n      \"x\": 28.57142857142857,\\n      \"y\": -500.0\\n    },\\n    \"2\": {\\n      \"x\": 28.57142857142857,\\n      \"y\": -300.00000000000006\\n    },\\n    \"3\": {\\n      \"x\": 28.57142857142857,\\n      \"y\": -100.0\\n    },\\n    \"4\": {\\n      \"x\": 28.57142857142857,\\n      \"y\": 100.0\\n    },\\n    \"5\": {\\n      \"x\": 28.57142857142857,\\n      \"y\": 300.00000000000006\\n    },\\n    \"6\": {\\n      \"x\": 28.57142857142857,\\n      \"y\": 500.0\\n    }\\n  }'"
            ]
          },
          "execution_count": 5,
          "metadata": {},
          "output_type": "execute_result"
        }
      ],
      "source": [
        "vis._get_options()[vis._get_options().find(\"positions\"):vis._get_options().find(\"positions\")+500]"
      ]
    },
    {
      "cell_type": "code",
      "execution_count": 6,
      "id": "3715f5d6-d970-45cb-a7d5-a46067a37a98",
      "metadata": {},
      "outputs": [
        {
          "data": {
            "text/plain": [
              "''"
            ]
          },
          "execution_count": 6,
          "metadata": {},
          "output_type": "execute_result"
        }
      ],
      "source": [
        "vis.generate_html()[vis.generate_html().find('\"x:\"') : vis.generate_html().find('\"x:\"')+500]"
      ]
    },
    {
      "cell_type": "code",
      "execution_count": 7,
      "id": "bb188826-811a-4646-8197-9d753b2694cf",
      "metadata": {},
      "outputs": [
        {
          "data": {
            "application/javascript": [
              "nw_sLnWYKwCQe.network.setOptions({\n",
              "  \"__fake_macros\": {\n",
              "    \"__group_macro\": {\n",
              "      \"borderWidth\": 1,\n",
              "      \"color\": {\n",
              "        \"background\": \"white\",\n",
              "        \"border\": \"black\",\n",
              "        \"highlight\": {\n",
              "          \"background\": \"white\",\n",
              "          \"border\": \"red\"\n",
              "        }\n",
              "      },\n",
              "      \"shape\": \"ellipse\",\n",
              "      \"mass\": 1,\n",
              "      \"font\": {\n",
              "        \"color\": \"black\",\n",
              "        \"size\": 14\n",
              "      }\n",
              "    }\n",
              "  },\n",
              "  \"edit_groups\": {\n",
              "    \"groups\": [\n",
              "      \"states\",\n",
              "      \"actions\"\n",
              "    ]\n",
              "  },\n",
              "  \"groups\": {\n",
              "    \"actions\": {\n",
              "      \"borderWidth\": 1,\n",
              "      \"color\": {\n",
              "        \"background\": \"lightblue\",\n",
              "        \"border\": \"black\",\n",
              "        \"highlight\": {\n",
              "          \"background\": \"white\",\n",
              "          \"border\": \"red\"\n",
              "        }\n",
              "      },\n",
              "      \"shape\": \"box\",\n",
              "      \"mass\": 1,\n",
              "      \"font\": {\n",
              "        \"color\": \"black\",\n",
              "        \"size\": 14\n",
              "      }\n",
              "    },\n",
              "    \"scheduled_actions\": {\n",
              "      \"shape\": \"box\",\n",
              "      \"color\": {\n",
              "        \"background\": \"pink\",\n",
              "        \"border\": \"red\"\n",
              "      }\n",
              "    },\n",
              "    \"states\": {\n",
              "      \"borderWidth\": 1,\n",
              "      \"color\": {\n",
              "        \"background\": \"white\",\n",
              "        \"border\": \"black\",\n",
              "        \"highlight\": {\n",
              "          \"background\": \"white\",\n",
              "          \"border\": \"red\"\n",
              "        }\n",
              "      },\n",
              "      \"shape\": \"ellipse\",\n",
              "      \"mass\": 1,\n",
              "      \"font\": {\n",
              "        \"color\": \"black\",\n",
              "        \"size\": 14\n",
              "      }\n",
              "    }\n",
              "  },\n",
              "  \"reload_button\": false,\n",
              "  \"edges\": {\n",
              "    \"arrows\": \"to\",\n",
              "    \"font\": {\n",
              "      \"color\": \"black\",\n",
              "      \"size\": 14,\n",
              "      \"strokeColor\": \"white\",\n",
              "      \"strokeWidth\": 2\n",
              "    },\n",
              "    \"color\": {\n",
              "      \"color\": \"black\"\n",
              "    },\n",
              "    \"width\": 1\n",
              "  },\n",
              "  \"numbers\": {\n",
              "    \"fractions\": true,\n",
              "    \"digits\": 5,\n",
              "    \"denominator_limit\": 1000\n",
              "  },\n",
              "  \"results\": {\n",
              "    \"show_results\": true,\n",
              "    \"result_symbol\": \"\\u2606\",\n",
              "    \"result_colors\": false,\n",
              "    \"min_result_color\": \"#ffffff\",\n",
              "    \"max_result_color\": \"#ff0000\"\n",
              "  },\n",
              "  \"state_properties\": {\n",
              "    \"show_ids\": false,\n",
              "    \"show_rewards\": true,\n",
              "    \"reward_symbol\": \"\\u20ac\",\n",
              "    \"show_zero_rewards\": true,\n",
              "    \"show_observations\": true,\n",
              "    \"observation_symbol\": \"\\u0298\"\n",
              "  },\n",
              "  \"layout\": {\n",
              "    \"randomSeed\": 5\n",
              "  },\n",
              "  \"misc\": {\n",
              "    \"enable_physics\": false,\n",
              "    \"width\": 800,\n",
              "    \"height\": 600,\n",
              "    \"explore\": false\n",
              "  },\n",
              "  \"saving\": {\n",
              "    \"relative_path\": true,\n",
              "    \"filename\": \"layouts/NAME.json\",\n",
              "    \"save_button\": false,\n",
              "    \"load_button\": false\n",
              "  },\n",
              "  \"positions\": {\n",
              "    \"0\": {\n",
              "      \"x\": -171.42857142857144,\n",
              "      \"y\": 0.0\n",
              "    },\n",
              "    \"1\": {\n",
              "      \"x\": 28.57142857142857,\n",
              "      \"y\": -500.0\n",
              "    },\n",
              "    \"2\": {\n",
              "      \"x\": 28.57142857142857,\n",
              "      \"y\": -300.00000000000006\n",
              "    },\n",
              "    \"3\": {\n",
              "      \"x\": 28.57142857142857,\n",
              "      \"y\": -100.0\n",
              "    },\n",
              "    \"4\": {\n",
              "      \"x\": 28.57142857142857,\n",
              "      \"y\": 100.0\n",
              "    },\n",
              "    \"5\": {\n",
              "      \"x\": 28.57142857142857,\n",
              "      \"y\": 300.00000000000006\n",
              "    },\n",
              "    \"6\": {\n",
              "      \"x\": 28.57142857142857,\n",
              "      \"y\": 500.0\n",
              "    }\n",
              "  },\n",
              "  \"physics\": false,\n",
              "  \"autoResize\": true\n",
              "});"
            ],
            "text/plain": [
              "<IPython.core.display.Javascript object>"
            ]
          },
          "metadata": {},
          "output_type": "display_data"
        }
      ],
      "source": [
        "vis.update()"
      ]
    },
    {
      "cell_type": "code",
      "execution_count": 8,
      "id": "88be862a-5928-4906-a2dd-85c905f9ee7a",
      "metadata": {},
      "outputs": [
        {
          "data": {
            "text/plain": [
              "'{ id: 0, label: `init`, group: \"states\", x: -171.42857142857144, y: 0.0 },\\n{ id: 1, label: `rolled1`, group: \"states\", x: 28.57142857142857, y: -500.0 },\\n{ id: 2, label: `rolled2`, group: \"states\", x: 28.57142857142857, y: -300.00000000000006 },\\n{ id: 3, label: `rolled3`, group: \"states\", x: 28.57142857142857, y: -100.0 },\\n{ id: 4, label: `rolled4`, group: \"states\", x: 28.57142857142857, y: 100.0 },\\n{ id: 5, label: `rolled5`, group: \"states\", x: 28.57142857142857, y: 300.00000000000006 },\\n{ id: 6, label: `rolled6`, group: \"states\", x: 28.57142857142857, y: 500.0 },\\n'"
            ]
          },
          "execution_count": 8,
          "metadata": {},
          "output_type": "execute_result"
        }
      ],
      "source": [
        "vis._generate_node_js()"
      ]
    },
    {
      "cell_type": "code",
      "execution_count": null,
      "id": "6ea5e6e0-a1c6-4fbb-8d91-6f42a8e5dc52",
      "metadata": {},
      "outputs": [],
      "source": []
    }
  ],
  "metadata": {
    "kernelspec": {
      "display_name": "Python 3 (ipykernel)",
      "language": "python",
      "name": "python3"
    },
    "language_info": {
      "codemirror_mode": {
        "name": "ipython",
        "version": 3
      },
      "file_extension": ".py",
      "mimetype": "text/x-python",
      "name": "python",
      "nbconvert_exporter": "python",
      "pygments_lexer": "ipython3",
      "version": "3.12.3"
    }
  },
  "nbformat": 4,
  "nbformat_minor": 5
}
